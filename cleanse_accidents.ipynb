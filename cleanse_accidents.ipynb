{
 "cells": [
  {
   "cell_type": "markdown",
   "id": "b4e368bf",
   "metadata": {},
   "source": [
    "# Accidentabilidad de VMPs en Barcelona e incidencia sobre peatones\n",
    "## *Según datos de la Guàrdia Urbana del año 2022*  \n",
    "\n",
    "## Parte I. Limpieza y adecuación de los datos"
   ]
  },
  {
   "cell_type": "markdown",
   "id": "673def3e",
   "metadata": {},
   "source": [
    "El Ayuntamiento de París ha decidido __[dar por finalizada la concesión de uso del espacio público a los operadores de VMPs compartidos a partir del 1 de septiembre de 2023](https://www.paris.fr/pages/pour-ou-contre-les-trottinettes-en-libre-service-23231)__, una decisión tomada tras una consulta popular celebrada en abril en la que __[cerca del 90% de los participantes votó a favor](https://www.xataka.com/movilidad/parisinos-se-han-hartado-patinetes-electricos-que-han-expulsado-referendum)__ de esta medida. Sorprendido por esta noticia he querido comprobar la situación en la ciudad de Barcelona. Será un **análisis exploratorio** sencillo en el que comprobaré la accidentabilidad de VMPs (sin distinguir entre eléctricos y no eléctricos) y la incidencia de estos accidentes en los peatones. Para ello usaré los datos de la Guàrdia Urbana del año 2022 publicados en el portal de __[Open Data del Ajuntament de Barcelona](https://opendata-ajuntament.barcelona.cat/es)__.\n",
    "\n",
    "El objetivo de este proyecto es obtener una imagen superficial que permita dar una idea de esta situación en Barcelona. De entrada se va a comprobar cuántos de los accidentes reportados el año 2022 tienen, al menos, un VMP implicado y, de todos estos, en cuántos se ha causado lesiones a un peatón. Se va a comprobar a qué horas se producen estos accidentes en función del día de la semana, y se va a comprobar también la incidencia por barrio. Finalmente se va a visualizar en un mapa los accidentes con VMPs implicados en la ciudad, distinguiendo aquellos en que hay por lo menos un peatón lesionado y la responsabilidad o no del peatón en la colisión.\n",
    "\n",
    "En cuanto a la presentación de los resultados se ha decidido visualizar la información en la herramienta flourish, por tanto se van a crear los ficheros csv adecuados para exportar la información necesaria y poderla mostrar. \n",
    "\n",
    "En esta primera parte se presenta la limpieza y adecuación de los datos originales para llevar a cabo el análisis deseado, que es la **parte II** de este proyecto."
   ]
  },
  {
   "cell_type": "code",
   "execution_count": 1,
   "id": "04eba6e4",
   "metadata": {},
   "outputs": [],
   "source": [
    "# Carga de las librerias necesarias\n",
    "\n",
    "import pandas as pd\n",
    "import matplotlib.pyplot as plt"
   ]
  },
  {
   "cell_type": "markdown",
   "id": "02aee4c1",
   "metadata": {},
   "source": [
    "### 1. Fuente de datos\n",
    "\n",
    "La información de la accidentabilidad en la ciudad de Barcelona, según los expedientes de la Guàrdia Urbana, se facilita a través del portal de Open Data en 5 ficheros CSV diferentes. Se publican los datos correspondientes a cada año en ficheros separados, para este análisis solo se tendrán en cuenta los datos correspondientes al año 2022. https://opendata-ajuntament.barcelona.cat/data/es/organization/seguretat  \n",
    "\n",
    "- **2022_accidents_gu_bcn.csv** Información genérica de los accidentes reportados.  \n",
    "- **2022_accidents_persones_gu_bcn.csv** Información de todas las personas implicadas en cada accidente.  \n",
    "- **2022_accidents_vehicles_gu_bcn.csv** Información de los vehículos implicados en cada accidente.  \n",
    "- **2022_accidents_causes_gu_bcn_.csv**  \n",
    "- **2022_accidents_tipus_gu_bcn.csv**"
   ]
  },
  {
   "cell_type": "markdown",
   "id": "44cdbe45",
   "metadata": {},
   "source": [
    "### 2. Estrategia para el análisis\n",
    "Se decide recoger la información necesaria para el análisis a llevar a cabo en un único dataframe, exportándola a un fichero CSV master que permita la lectura directa sin tener que ejecutar de nuevo este script (notebook) para adecuarla.\n",
    "\n",
    "La información general de cada accidente, incluida en cada uno de los cinco ficheros proporcionados, que se incluirá en el fichero master es: número de expediente, código de distrito, código de barrio, fecha y hora, y coordenadas geográficas (longitud y latitud).\n",
    "\n",
    "A parte de la información general de cada accidente reportado se decide incluir el número de VMPs implicados, el número de bicicletas, el número de otros vehículos, el número de conductores, pasajeros y peatones lesionados, así como si el accidente ha sido causado por el peatón y la ubicación del mismo en el momento del accidente. Se ha decidido incluir las bicicletas para poder aprovechar el fichero master creado en este script en un futuro análisis análogo para este tipo de vehículo.\n",
    "\n",
    "Respecto a la información de los distritos y barrios de Barcelona, se decide incluir en el CSV master únicamente los códigos. Se crearán dos ficheros auxiliares con las etiquetas de cada una de las divisiones administrativas de la ciudad correspondientes a cada código, para evitar incluir información redundante en el proceso de análisis que pudiera añadir complejidad computacional."
   ]
  },
  {
   "cell_type": "markdown",
   "id": "f41144fa",
   "metadata": {},
   "source": [
    "### 3. Extracción de la información general (accidentes reportados, distritos, barrios)\n",
    "\n",
    "En este paso se extraerá la información general de los accidentes reportados, común a los cinco ficheros originales, y se crearán los ficheros CSV auxiliares con los nombres de los distritos y barrios de Barcelona asociados a su código. Esta información se extraerá del fichero *2022_accidents_gu_bcn.csv*."
   ]
  },
  {
   "cell_type": "code",
   "execution_count": 2,
   "id": "47c3a882",
   "metadata": {},
   "outputs": [
    {
     "name": "stdout",
     "output_type": "stream",
     "text": [
      "  Numero_expedient  Codi_districte Nom_districte  Codi_barri   Nom_barri  \\\n",
      "0  2022S007749                  -1    Desconegut          -1  Desconegut   \n",
      "1  2022S003422                  -1    Desconegut          -1  Desconegut   \n",
      "2  2022S003346                  -1    Desconegut          -1  Desconegut   \n",
      "3  2022S006073                  -1    Desconegut          -1  Desconegut   \n",
      "4  2022S005123                  -1    Desconegut          -1  Desconegut   \n",
      "\n",
      "   Codi_carrer                                         Nom_carrer  \\\n",
      "0           -1  Fernando Pessoa                               ...   \n",
      "1           -1  Bac de Roda / Ramon Turró                     ...   \n",
      "2           -1  Viladrosa                                     ...   \n",
      "3           -1  A Zona Franca / Número 3 Zona Franca          ...   \n",
      "4           -1  Carles Pi i Sunyer                            ...   \n",
      "\n",
      "  Num_postal_caption Descripcio_dia_setmana  NK_Any  ...  \\\n",
      "0                 17                Dilluns    2022  ...   \n",
      "1         Desconegut               Dissabte    2022  ...   \n",
      "2         97-103                   Dimecres    2022  ...   \n",
      "3         Desconegut               Dissabte    2022  ...   \n",
      "4                 10              Divendres    2022  ...   \n",
      "\n",
      "   Descripcio_causa_vianant Numero_morts  Numero_lesionats_lleus  \\\n",
      "0  No és causa del  vianant            0                       1   \n",
      "1  No és causa del  vianant            0                       2   \n",
      "2  No és causa del  vianant            0                       1   \n",
      "3  No és causa del  vianant            0                       0   \n",
      "4  No és causa del  vianant            0                       1   \n",
      "\n",
      "   Numero_lesionats_greus Numero_victimes Numero_vehicles_implicats  \\\n",
      "0                       0               1                         2   \n",
      "1                       0               2                         2   \n",
      "2                       0               1                         2   \n",
      "3                       0               0                         1   \n",
      "4                       0               1                         2   \n",
      "\n",
      "   Coordenada_UTM_X_ED50  Coordenada_UTM_Y_ED50  Longitud    Latitud  \n",
      "0              432684.59             4588039.29  2.193098  41.439261  \n",
      "1              433936.91             4584121.59  2.208515  41.404080  \n",
      "2              431308.23             4588533.51  2.176568  41.443596  \n",
      "3              428020.43             4576283.26  2.138671  41.332974  \n",
      "4              431029.88             4582053.59  2.173975  41.385209  \n",
      "\n",
      "[5 rows x 25 columns]\n"
     ]
    }
   ],
   "source": [
    "accs_df = pd.read_csv(\"raw_data/2022_accidents_gu_bcn.csv\")\n",
    "\n",
    "print(accs_df.head())"
   ]
  },
  {
   "cell_type": "markdown",
   "id": "2a099b34",
   "metadata": {},
   "source": [
    "Extracción de los nombres y códigos de los barrios y distritos de la ciudad de Barcelona y exportación a los ficheros CSV auxiliares."
   ]
  },
  {
   "cell_type": "code",
   "execution_count": 3,
   "id": "012ac22e",
   "metadata": {},
   "outputs": [
    {
     "name": "stderr",
     "output_type": "stream",
     "text": [
      "/tmp/ipykernel_11220/3819481415.py:9: FutureWarning: Indexing with multiple keys (implicitly converted to a tuple of keys) will be deprecated, use a list instead.\n",
      "  accs_df.groupby(['Codi_districte','Codi_barri'])['Nom_districte','Nom_barri'].first()\\\n"
     ]
    }
   ],
   "source": [
    "#print(accs_df.groupby('Codi_districte').first())\n",
    "#print(accs_df.groupby('Codi_districte')['Nom_districte'])\n",
    "#print(accs_df.groupby('Codi_districte')['Nom_districte'].first())\n",
    "#print(accs_df.groupby(['Codi_districte','Codi_barri'])['Nom_districte','Nom_barri'].first())\n",
    "\n",
    "#print(accs_df.groupby(['Codi_districte','Codi_barri'])['Nom_districte','Nom_barri'].first().reset_index())\n",
    "#rename(columns={\"index\":\"date\",})\n",
    "\n",
    "accs_df.groupby(['Codi_districte','Codi_barri'])['Nom_districte','Nom_barri'].first()\\\n",
    "    .reset_index().to_csv('clean_data/bcn_barris.csv', index=False)\n",
    "\n",
    "accs_df.groupby(['Codi_districte'])['Nom_districte'].first()\\\n",
    "    .reset_index().to_csv('clean_data/bcn_districtes.csv', index=False)"
   ]
  },
  {
   "cell_type": "markdown",
   "id": "94ad4fec",
   "metadata": {},
   "source": [
    "Extracción y transformaciones necesarias de la información general de interés de los accidentes reportados."
   ]
  },
  {
   "cell_type": "code",
   "execution_count": 4,
   "id": "63f07e7b",
   "metadata": {},
   "outputs": [
    {
     "name": "stdout",
     "output_type": "stream",
     "text": [
      "  Numero_expedient  Codi_districte  Codi_barri  NK_Any  Mes_any  Dia_mes  \\\n",
      "0  2022S007749                  -1          -1    2022       12       19   \n",
      "1  2022S003422                  -1          -1    2022        6        4   \n",
      "2  2022S003346                  -1          -1    2022        6        1   \n",
      "3  2022S006073                  -1          -1    2022       10        8   \n",
      "4  2022S005123                  -1          -1    2022        8       26   \n",
      "\n",
      "   Hora_dia  Longitud    Latitud  \n",
      "0        11  2.193098  41.439261  \n",
      "1        14  2.208515  41.404080  \n",
      "2        21  2.176568  41.443596  \n",
      "3        21  2.138671  41.332974  \n",
      "4        16  2.173975  41.385209  \n"
     ]
    }
   ],
   "source": [
    "# Seleccion de los campos comunes de interés en el dataframe leido\n",
    "keep_feats = [\"Numero_expedient\",\"Codi_districte\",\"Codi_barri\",\n",
    "              \"NK_Any\",\"Mes_any\",\"Dia_mes\",\"Hora_dia\",\n",
    "              \"Longitud\",\"Latitud\"]\n",
    "\n",
    "accs_df = accs_df[keep_feats]\n",
    "\n",
    "print(accs_df.head())"
   ]
  },
  {
   "cell_type": "code",
   "execution_count": 5,
   "id": "efdd0b24",
   "metadata": {},
   "outputs": [
    {
     "name": "stdout",
     "output_type": "stream",
     "text": [
      "  Numero_expedient  Codi_districte  Codi_barri  NK_Any  Mes_any  Dia_mes  \\\n",
      "0  2022S007749                  -1          -1    2022       12       19   \n",
      "1  2022S003422                  -1          -1    2022        6        4   \n",
      "2  2022S003346                  -1          -1    2022        6        1   \n",
      "3  2022S006073                  -1          -1    2022       10        8   \n",
      "4  2022S005123                  -1          -1    2022        8       26   \n",
      "\n",
      "   Hora_dia  Longitud    Latitud            Dia_Hora  \n",
      "0        11  2.193098  41.439261 2022-12-19 11:00:00  \n",
      "1        14  2.208515  41.404080 2022-06-04 14:00:00  \n",
      "2        21  2.176568  41.443596 2022-06-01 21:00:00  \n",
      "3        21  2.138671  41.332974 2022-10-08 21:00:00  \n",
      "4        16  2.173975  41.385209 2022-08-26 16:00:00  \n"
     ]
    }
   ],
   "source": [
    "# Creacion del campo Dia_Hora (datetime) a partir de NK_Any, Mes_any, Dia_mes, Hora_dia\n",
    "\n",
    "accs_df[\"Dia_Hora\"] = pd.to_datetime(accs_df[\"NK_Any\"].apply(str) +\\\n",
    "                                     accs_df[\"Mes_any\"].apply(lambda x: '{0:0>2}'.format(x)) +\\\n",
    "                                     accs_df[\"Dia_mes\"].apply(lambda x: '{0:0>2}'.format(x)) +\\\n",
    "                                     accs_df[\"Hora_dia\"].apply(lambda x: '{0:0>2}'.format(x)), \n",
    "                                     format='%Y%m%d%H')\n",
    "\n",
    "print(accs_df.head())"
   ]
  },
  {
   "cell_type": "code",
   "execution_count": 6,
   "id": "bc983d67",
   "metadata": {},
   "outputs": [
    {
     "name": "stdout",
     "output_type": "stream",
     "text": [
      "  Numero_expedient  Codi_districte  Codi_barri            Dia_Hora    Latitud  \\\n",
      "0  2022S007749                  -1          -1 2022-12-19 11:00:00  41.439261   \n",
      "1  2022S003422                  -1          -1 2022-06-04 14:00:00  41.404080   \n",
      "2  2022S003346                  -1          -1 2022-06-01 21:00:00  41.443596   \n",
      "3  2022S006073                  -1          -1 2022-10-08 21:00:00  41.332974   \n",
      "4  2022S005123                  -1          -1 2022-08-26 16:00:00  41.385209   \n",
      "\n",
      "   Longitud  \n",
      "0  2.193098  \n",
      "1  2.208515  \n",
      "2  2.176568  \n",
      "3  2.138671  \n",
      "4  2.173975  \n"
     ]
    }
   ],
   "source": [
    "# Eliminacion de los campos redundantes y obtencion del csv con la informacion comun\n",
    "keep_feats = [\"Numero_expedient\",\"Codi_districte\",\"Codi_barri\",\n",
    "              \"Dia_Hora\",\"Latitud\",\"Longitud\"]\n",
    "\n",
    "accs_df = accs_df[keep_feats]\n",
    "accs_df.to_csv('clean_data/common_info.csv', index=False)\n",
    "\n",
    "print(accs_df.head())"
   ]
  },
  {
   "cell_type": "markdown",
   "id": "dfca77bf",
   "metadata": {},
   "source": [
    "### 4. Obtención de la información adicional de cada accidente reportado necesaria para el análisis específico\n",
    "\n",
    "En este paso se hará el recuento del tipo de vehículos implicados y del tipo de persona lesionados en cada uno de los accidentes reportados. En el caso de haber algún peatón implicado, se extraerá la información sobre la responsabilidad del peatón y su ubicación en el momento del atropello.\n",
    "\n",
    "* **Tipo de vehículo:** VMP, Bicicleta, Otros\n",
    "* **Tipo de persona:** Conductor, Pasajero, Peatón (Vianant)\n",
    "* **Causa del peatón:** Sí | No --> El accidente, ¿es a causa del peatón?\n",
    "* **Lugar atropello del peatón:** En qué parte de la vía pública se halla el peatón. ¿Es una zona exclusiva o protegida para el tránsito de personas a pie?"
   ]
  },
  {
   "cell_type": "markdown",
   "id": "28f30626",
   "metadata": {},
   "source": [
    "#### 4.1 Tipos de vehículo\n",
    "A efectos de este análisis, solo se considerarán tres categorías de vehículos: VMP (patinetes), bicicletas y resto de vehículos (otros). En este análiis solo se tiene interés en la accientabilidad de VMPs y su afectación en peatones, sin entrar en el detalle del resto de vehículos. Se extraerá la información del número de bicicletas implicadas para permitir el uso del mismo fichero master en futuros análisis de accidentabilidad de este tipo de vehículo."
   ]
  },
  {
   "cell_type": "code",
   "execution_count": 7,
   "id": "7bad041c",
   "metadata": {},
   "outputs": [
    {
     "name": "stdout",
     "output_type": "stream",
     "text": [
      "  Numero_expedient  Codi_districte Nom_districte  Codi_barri   Nom_barri  \\\n",
      "0  2022S000792                  -1    Desconegut          -1  Desconegut   \n",
      "1  2022S000792                  -1    Desconegut          -1  Desconegut   \n",
      "2  2022S001565                  -1    Desconegut          -1  Desconegut   \n",
      "3  2022S001565                  -1    Desconegut          -1  Desconegut   \n",
      "4  2022S001568                  -1    Desconegut          -1  Desconegut   \n",
      "\n",
      "   Codi_carrer                                         Nom_carrer  Num_postal  \\\n",
      "0           -1  Elisabeth Eidenbenz                           ...  8-24         \n",
      "1           -1  Elisabeth Eidenbenz                           ...         NaN   \n",
      "2           -1  Sant Cugat                                    ...  49-55        \n",
      "3           -1  Sant Cugat                                    ...         NaN   \n",
      "4           -1  Pallars                                       ...  279-285      \n",
      "\n",
      "  Descripcio_dia_setmana  NK_Any  ...  Descripcio_tipus_vehicle  \\\n",
      "0                 Dijous    2022  ...                      Taxi   \n",
      "1                 Dijous    2022  ...                   Turisme   \n",
      "2                 Dijous    2022  ...                 Bicicleta   \n",
      "3                 Dijous    2022  ...                 Bicicleta   \n",
      "4                 Dijous    2022  ...               Motocicleta   \n",
      "\n",
      "    Descripcio_model  Descripcio_marca  Descripcio_color Descripcio_carnet  \\\n",
      "0  TOYOTA PRIUS PLUS            TOYOTA        Negre/Groc                 B   \n",
      "1            LEON ST              SEAT              Gris                 B   \n",
      "2         Desconegut        Desconegut             Negre                 B   \n",
      "3         Desconegut        Desconegut           Vermell                 A   \n",
      "4             JET 14               SYM              Blau                 B   \n",
      "\n",
      "  Antiguitat_carnet Coordenada_UTM_X_ED50 Coordenada_UTM_Y_ED50  Longitud  \\\n",
      "0                20             426794.73            4581925.76  2.123343   \n",
      "1                23             426794.73            4581925.76  2.123343   \n",
      "2                17             426417.43            4586500.99  2.118274   \n",
      "3                 2             426417.43            4586500.99  2.118274   \n",
      "4                10             433391.56            4584170.99  2.201986   \n",
      "\n",
      "     Latitud  \n",
      "0  41.383684  \n",
      "1  41.383684  \n",
      "2  41.424856  \n",
      "3  41.424856  \n",
      "4  41.404479  \n",
      "\n",
      "[5 rows x 26 columns]\n"
     ]
    }
   ],
   "source": [
    "accs_veh_df = pd.read_csv(\"raw_data/2022_accidents_vehicles_gu_bcn.csv\")\n",
    "\n",
    "print(accs_veh_df.head())"
   ]
  },
  {
   "cell_type": "code",
   "execution_count": 8,
   "id": "0794c40b",
   "metadata": {},
   "outputs": [
    {
     "name": "stdout",
     "output_type": "stream",
     "text": [
      "  Numero_expedient Descripcio_tipus_vehicle\n",
      "0  2022S000792                         Taxi\n",
      "1  2022S000792                      Turisme\n",
      "2  2022S001565                    Bicicleta\n",
      "3  2022S001565                    Bicicleta\n",
      "4  2022S001568                  Motocicleta\n"
     ]
    }
   ],
   "source": [
    "keep_feats = [\"Numero_expedient\",\"Descripcio_tipus_vehicle\"]\n",
    "\n",
    "accs_veh_df = accs_veh_df[keep_feats]\n",
    "\n",
    "print(accs_veh_df.head())"
   ]
  },
  {
   "cell_type": "code",
   "execution_count": 9,
   "id": "da10aec8",
   "metadata": {},
   "outputs": [
    {
     "data": {
      "text/plain": [
       "array(['Taxi', 'Turisme', 'Bicicleta', 'Motocicleta', 'Furgoneta',\n",
       "       'Camió rígid > 3,5 tones', 'Veh. mobilitat personal amb motor',\n",
       "       'Tot terreny', 'Altres vehicles amb motor', 'Tractor camió',\n",
       "       'Ciclomotor', 'Autobús', 'Camió rígid <= 3,5 tones',\n",
       "       'Quadricicle < 75 cc', 'Autobús articulat', 'Desconegut',\n",
       "       \"Maquinària d'obres i serveis\",\n",
       "       'Veh. mobilitat personal sense motor', 'Ambulància', 'Autocar',\n",
       "       nan, 'Pick-up', 'Tricicle', 'Tren o tramvia', 'Autocaravana',\n",
       "       'Quadricicle > 75 cc', 'Altres vehicles sense motor'], dtype=object)"
      ]
     },
     "execution_count": 9,
     "metadata": {},
     "output_type": "execute_result"
    }
   ],
   "source": [
    "# Simplificar les categories de vehicles a tres: VMP, Bicicleta, Altres\n",
    "\n",
    "# Categorías / Valores existentes en la variable Descripcio_tipus_vehicle\n",
    "accs_veh_df.Descripcio_tipus_vehicle.unique()"
   ]
  },
  {
   "cell_type": "markdown",
   "id": "a37c4790",
   "metadata": {},
   "source": [
    "Conversión de categorias para la variable *Descripcio_tipus_vehicle*:\n",
    "\n",
    "* *Bicicleta* --> Bicicleta\n",
    "* *Veh. mobilitat personal amb motor* --> VMP\n",
    "* *Veh. mobilitat personal sense motor* --> VMP\n",
    "* *Resto de categorías* --> Otros_veh\n",
    "\n",
    "A efectos del análisis a realizar se van a considerar de la misma manera los vehículos de movilidad personal con motor o sin motor."
   ]
  },
  {
   "cell_type": "code",
   "execution_count": 10,
   "id": "acc0400b",
   "metadata": {},
   "outputs": [
    {
     "name": "stdout",
     "output_type": "stream",
     "text": [
      "  Numero_expedient Descripcio_tipus_vehicle   TipusVeh\n",
      "0  2022S000792                         Taxi  Otros_veh\n",
      "1  2022S000792                      Turisme  Otros_veh\n",
      "2  2022S001565                    Bicicleta  Bicicleta\n",
      "3  2022S001565                    Bicicleta  Bicicleta\n",
      "4  2022S001568                  Motocicleta  Otros_veh\n"
     ]
    }
   ],
   "source": [
    "# Creación de un nuevo atributo 'TipusVeh' con la categorizacion simplificada\n",
    "\n",
    "accs_veh_df[\"TipusVeh\"] = \"Otros_veh\"\n",
    "\n",
    "accs_veh_df.loc[ accs_veh_df[\"Descripcio_tipus_vehicle\"] == \"Bicicleta\", \"TipusVeh\"] = \"Bicicleta\"\n",
    "accs_veh_df.loc[ accs_veh_df[\"Descripcio_tipus_vehicle\"] == \"Veh. mobilitat personal amb motor\", \"TipusVeh\"] = \"VMP\"\n",
    "accs_veh_df.loc[ accs_veh_df[\"Descripcio_tipus_vehicle\"] == \"Veh. mobilitat personal sense motor\", \"TipusVeh\"] = \"VMP\"\n",
    "\n",
    "print(accs_veh_df.head())"
   ]
  },
  {
   "cell_type": "code",
   "execution_count": 11,
   "id": "ebc74bf6",
   "metadata": {},
   "outputs": [
    {
     "name": "stdout",
     "output_type": "stream",
     "text": [
      "  Numero_expedient  TipusVeh_Bicicleta  TipusVeh_Otros_veh  TipusVeh_VMP\n",
      "0  2022S000792                       0                   1             0\n",
      "1  2022S000792                       0                   1             0\n",
      "2  2022S001565                       1                   0             0\n",
      "3  2022S001565                       1                   0             0\n",
      "4  2022S001568                       0                   1             0\n"
     ]
    }
   ],
   "source": [
    "accs_veh_df = accs_veh_df[[\"Numero_expedient\",\"TipusVeh\"]]\n",
    "\n",
    "accs_veh_dummies = pd.get_dummies(accs_veh_df, columns=[\"TipusVeh\"])\n",
    "\n",
    "print(accs_veh_dummies.head())"
   ]
  },
  {
   "cell_type": "code",
   "execution_count": 12,
   "id": "f93d0486",
   "metadata": {},
   "outputs": [
    {
     "name": "stdout",
     "output_type": "stream",
     "text": [
      "  Numero_expedient  TipusVeh_Bicicleta  TipusVeh_Otros_veh  TipusVeh_VMP\n",
      "0  2022S000001                       0                   2             0\n",
      "1  2022S000002                       0                   2             0\n",
      "2  2022S000003                       2                   0             0\n",
      "3  2022S000004                       0                   2             0\n",
      "4  2022S000005                       0                   2             0\n"
     ]
    }
   ],
   "source": [
    "accs_veh_dummies = accs_veh_dummies.groupby(['Numero_expedient']).sum().reset_index()\n",
    "\n",
    "print(accs_veh_dummies.head())"
   ]
  },
  {
   "cell_type": "markdown",
   "id": "16237905",
   "metadata": {},
   "source": [
    "#### 4.2 Tipos de persona con lesiones\n",
    "En el caso de los tipos de persona lesionadas en cada accidente se considerarán las tres categorías establecidas en los expedientes de la GUB: Conductor, pasajero (*passatger*) y peatón (*vianant*)\n",
    "\n",
    "Dado que tan solo se tendrán en cuenta las consecuencias para los peatones, en el caso de conductores y pasajeros no se tendrá en cuenta el vehículo en el que circulaban."
   ]
  },
  {
   "cell_type": "code",
   "execution_count": 13,
   "id": "64bd54d8",
   "metadata": {},
   "outputs": [
    {
     "name": "stdout",
     "output_type": "stream",
     "text": [
      "  Numero_expedient  Codi_districte   Nom_districte  Codi_barri  \\\n",
      "0  2022S000001                   2        Eixample           9   \n",
      "1  2022S000002                   2        Eixample           7   \n",
      "2  2022S000003                   2        Eixample           9   \n",
      "3  2022S000003                   2        Eixample           9   \n",
      "4  2022S000004                   7  Horta-Guinardó          33   \n",
      "\n",
      "                        Nom_barri  Codi_carrer Nom_carrer  Num_postal  \\\n",
      "0  la Nova Esquerra de l'Eixample       110803    Entença  0198B0198B   \n",
      "1          la Dreta de l'Eixample       289105   Rosselló  0294B0294B   \n",
      "2  la Nova Esquerra de l'Eixample       268003   Provença   0092 0094   \n",
      "3  la Nova Esquerra de l'Eixample       268003   Provença   0092 0094   \n",
      "4                el Baix Guinardó       152905   Guinardó  0030B0030B   \n",
      "\n",
      "  Descripcio_dia_setmana  NK_ Any  ...  Edat Descripcio_tipus_persona  \\\n",
      "0               Dissabte     2022  ...    31                Conductor   \n",
      "1               Dissabte     2022  ...    26                Conductor   \n",
      "2               Dissabte     2022  ...    31                Conductor   \n",
      "3               Dissabte     2022  ...    38                Conductor   \n",
      "4               Dissabte     2022  ...    37                Conductor   \n",
      "\n",
      "               Descripcio_Lloc_atropellament_vianant  \\\n",
      "0  Desconegut                                    ...   \n",
      "1  Desconegut                                    ...   \n",
      "2  Desconegut                                    ...   \n",
      "3  Desconegut                                    ...   \n",
      "4  Desconegut                                    ...   \n",
      "\n",
      "  Descripcio_Motiu_desplaçament_vianant  \\\n",
      "0                            Desconegut   \n",
      "1                            Desconegut   \n",
      "2                            Desconegut   \n",
      "3                            Desconegut   \n",
      "4                            Desconegut   \n",
      "\n",
      "   Descripcio_Motiu_desplaçament_conductor  \\\n",
      "0                      Oci i entreteniment   \n",
      "1                      Oci i entreteniment   \n",
      "2                             Es desconeix   \n",
      "3                             Es desconeix   \n",
      "4                      Oci i entreteniment   \n",
      "\n",
      "                            Descripcio_victimitzacio Coordenada_UTM_X_ED50  \\\n",
      "0  Ferit lleu: Amb assistència sanitària en lloc ...             428502.72   \n",
      "1             Ferit lleu: Hospitalització fins a 24h             430409.20   \n",
      "2             Ferit lleu: Hospitalització fins a 24h             428869.16   \n",
      "3  Ferit lleu: Amb assistència sanitària en lloc ...             428869.16   \n",
      "4             Ferit lleu: Hospitalització fins a 24h             430243.82   \n",
      "\n",
      "  Coordenada_UTM_Y_ED50  Longitud    Latitud  \n",
      "0            4582056.71  2.144854  41.386863  \n",
      "1            4583691.07  2.167466  41.401750  \n",
      "2            4582000.36  2.149243  41.386388  \n",
      "3            4582000.36  2.149243  41.386388  \n",
      "4            4584996.80  2.165337  41.413496  \n",
      "\n",
      "[5 rows x 28 columns]\n"
     ]
    }
   ],
   "source": [
    "accs_pers_df = pd.read_csv(\"raw_data/2022_accidents_persones_gu_bcn.csv\")\n",
    "\n",
    "print(accs_pers_df.head())"
   ]
  },
  {
   "cell_type": "code",
   "execution_count": 14,
   "id": "2fef9e03",
   "metadata": {},
   "outputs": [
    {
     "data": {
      "text/plain": [
       "array(['Conductor', 'Passatger', 'Vianant'], dtype=object)"
      ]
     },
     "execution_count": 14,
     "metadata": {},
     "output_type": "execute_result"
    }
   ],
   "source": [
    "accs_pers_df = accs_pers_df[[\"Numero_expedient\",\"Descripcio_tipus_persona\"]]\n",
    "\n",
    "# Categorías / Valores existentes en la variable Descripcio_tipus_persona\n",
    "accs_pers_df.Descripcio_tipus_persona.unique()"
   ]
  },
  {
   "cell_type": "code",
   "execution_count": 15,
   "id": "2546c650",
   "metadata": {},
   "outputs": [
    {
     "name": "stdout",
     "output_type": "stream",
     "text": [
      "  Numero_expedient       Pers\n",
      "0  2022S000001      Conductor\n",
      "1  2022S000002      Conductor\n",
      "2  2022S000003      Conductor\n",
      "3  2022S000003      Conductor\n",
      "4  2022S000004      Conductor\n"
     ]
    }
   ],
   "source": [
    "# Renombrar la columna a 'Pers'\n",
    "accs_pers_df = accs_pers_df.rename(columns={\"Descripcio_tipus_persona\": \"Pers\"})\n",
    "\n",
    "print(accs_pers_df.head())"
   ]
  },
  {
   "cell_type": "code",
   "execution_count": 16,
   "id": "b8019c8d",
   "metadata": {},
   "outputs": [
    {
     "name": "stdout",
     "output_type": "stream",
     "text": [
      "  Numero_expedient  Pers_Conductor  Pers_Passatger  Pers_Vianant\n",
      "0  2022S000001                   1               0             0\n",
      "1  2022S000002                   1               0             0\n",
      "2  2022S000003                   2               0             0\n",
      "3  2022S000004                   1               0             0\n",
      "4  2022S000007                   1               0             0\n"
     ]
    }
   ],
   "source": [
    "accs_pers_dummies = pd.get_dummies(accs_pers_df, columns=[\"Pers\"]).\\\n",
    "    groupby(['Numero_expedient']).sum().reset_index()\n",
    "\n",
    "print(accs_pers_dummies.head())"
   ]
  },
  {
   "cell_type": "markdown",
   "id": "282722ff",
   "metadata": {},
   "source": [
    "#### 4.3 Responsabilidad y ubicación del peatón, si hay alguno implicado y ha sufrido lesiones \n",
    "En este paso se extraerá la información de la responsabilidad del peatón en el accidente, así como su ubicación en el momento de la colisión."
   ]
  },
  {
   "cell_type": "code",
   "execution_count": 17,
   "id": "38cd73f2",
   "metadata": {},
   "outputs": [
    {
     "name": "stdout",
     "output_type": "stream",
     "text": [
      "  Numero_expedient  Descripcio_causa_vianant  \\\n",
      "0  2022S000001      No és causa del  vianant   \n",
      "1  2022S000002      No és causa del  vianant   \n",
      "2  2022S000003      No és causa del  vianant   \n",
      "3  2022S000003      No és causa del  vianant   \n",
      "4  2022S000004      No és causa del  vianant   \n",
      "\n",
      "               Descripcio_Lloc_atropellament_vianant  \n",
      "0  Desconegut                                    ...  \n",
      "1  Desconegut                                    ...  \n",
      "2  Desconegut                                    ...  \n",
      "3  Desconegut                                    ...  \n",
      "4  Desconegut                                    ...  \n"
     ]
    }
   ],
   "source": [
    "accs_vian_df = pd.read_csv(\"raw_data/2022_accidents_persones_gu_bcn.csv\")\n",
    "\n",
    "accs_vian_df = accs_vian_df[[\"Numero_expedient\",\"Descripcio_causa_vianant\",\"Descripcio_Lloc_atropellament_vianant\"]]\n",
    "\n",
    "print(accs_vian_df.head())"
   ]
  },
  {
   "cell_type": "code",
   "execution_count": 18,
   "id": "b68c5a67",
   "metadata": {},
   "outputs": [
    {
     "name": "stdout",
     "output_type": "stream",
     "text": [
      "['No és causa del  vianant' 'Creuar per fora pas de vianants'\n",
      " 'Desobeir el senyal del semàfor' 'Altres'\n",
      " 'Transitar a peu per la calçada']\n",
      "['Desconegut                                                                                                                                            '\n",
      " 'En zona peatonal                                                                                                                                      '\n",
      " 'Fora del pas                                                                                                                                          '\n",
      " 'En pas regulat per semàfor                                                                                                                            '\n",
      " 'En pas sense regular                                                                                                                                  '\n",
      " 'A la vorera / Andana                                                                                                                                  '\n",
      " 'Altres                                                                                                                                                '\n",
      " 'En pas sense senyalitzar                                                                                                                              ']\n"
     ]
    }
   ],
   "source": [
    "# Agrupacion de expedientes por ID, para obtener una unica fila por expediente\n",
    "accs_vian_df = accs_vian_df.groupby(['Numero_expedient']).first().reset_index()\n",
    "\n",
    "print(accs_vian_df.Descripcio_causa_vianant.unique())\n",
    "print(accs_vian_df.Descripcio_Lloc_atropellament_vianant.unique())"
   ]
  },
  {
   "cell_type": "code",
   "execution_count": 19,
   "id": "995d7fc3",
   "metadata": {},
   "outputs": [],
   "source": [
    "# Eliminar los espacios en blanco finales del atributo 'Descripcio_Lloc_atropellament_vianant'\n",
    "accs_vian_df['Descripcio_Lloc_atropellament_vianant'] = accs_vian_df['Descripcio_Lloc_atropellament_vianant'].\\\n",
    "    str.strip()\n"
   ]
  },
  {
   "cell_type": "code",
   "execution_count": 20,
   "id": "ea02a144",
   "metadata": {},
   "outputs": [
    {
     "name": "stdout",
     "output_type": "stream",
     "text": [
      "  Numero_expedient Es_causa_peaton Descripcio_Lloc_atropellament_vianant\n",
      "0  2022S000001                  No                            Desconegut\n",
      "1  2022S000002                  No                            Desconegut\n",
      "2  2022S000003                  No                            Desconegut\n",
      "3  2022S000004                  No                            Desconegut\n",
      "4  2022S000007                  No                            Desconegut\n"
     ]
    }
   ],
   "source": [
    "# Establecer si el peaton es responsable del atropello o no\n",
    "accs_vian_df.loc[accs_vian_df[\"Descripcio_causa_vianant\"] != \"No és causa del  vianant\", \"Descripcio_causa_vianant\"] = \"Sí\"\n",
    "accs_vian_df.loc[accs_vian_df[\"Descripcio_causa_vianant\"] == \"No és causa del  vianant\", \"Descripcio_causa_vianant\"] = \"No\"\n",
    "\n",
    "# Renombrar el atributo a 'Es_causa_peaton'\n",
    "accs_vian_df = accs_vian_df.rename(columns={\"Descripcio_causa_vianant\": \"Es_causa_peaton\"})\n",
    "\n",
    "print(accs_vian_df.head())\n"
   ]
  },
  {
   "cell_type": "markdown",
   "id": "fc1b2a05",
   "metadata": {},
   "source": [
    "Conversión de categorias para la variable *Descripcio_Lloc_atropellament_vianant*:\n",
    "\n",
    "* *Desconegut* --> Desconocido\n",
    "* *En zona peatonal* --> Zona Peatonal\n",
    "* *Fora del pas* --> Fuera del Paso\n",
    "* *En pas regulat per semàfor* --> Paso Regulado\n",
    "* *En pas sense regular* --> Paso No Regulado\n",
    "* *A la vorera / Andana* --> Zona Peatonal\n",
    "* *Altres* --> Otras\n",
    "* *En pas sense senyalitzar* --> Paso Sin Señalizar\n",
    "\n",
    "A efectos del análisis a realizar se van a considerar como zonas peatonales tanto las zonas peatonalizadas como aceras y andenes. Se mantiene la distinción original entre los distintos tipos de paso."
   ]
  },
  {
   "cell_type": "code",
   "execution_count": 21,
   "id": "a13be0ee",
   "metadata": {},
   "outputs": [
    {
     "name": "stdout",
     "output_type": "stream",
     "text": [
      "  Numero_expedient Es_causa_peaton Ubicacion_peaton\n",
      "0  2022S000001                  No      Desconocido\n",
      "1  2022S000002                  No      Desconocido\n",
      "2  2022S000003                  No      Desconocido\n",
      "3  2022S000004                  No      Desconocido\n",
      "4  2022S000007                  No      Desconocido\n"
     ]
    }
   ],
   "source": [
    "# Establecer la ubicacion del peaton en el momento de la colision\n",
    "accs_vian_df.loc[accs_vian_df[\"Descripcio_Lloc_atropellament_vianant\"] == \"Desconegut\", \"Descripcio_Lloc_atropellament_vianant\"] = \"Desconocido\"\n",
    "accs_vian_df.loc[accs_vian_df[\"Descripcio_Lloc_atropellament_vianant\"] == \"En zona peatonal\", \"Descripcio_Lloc_atropellament_vianant\"] = \"Zona Peatonal\"\n",
    "accs_vian_df.loc[accs_vian_df[\"Descripcio_Lloc_atropellament_vianant\"] == \"Fora del pas\", \"Descripcio_Lloc_atropellament_vianant\"] = \"Fuera del Paso\"\n",
    "accs_vian_df.loc[accs_vian_df[\"Descripcio_Lloc_atropellament_vianant\"] == \"En pas regulat per semàfor\", \"Descripcio_Lloc_atropellament_vianant\"] = \"Paso Regulado\"\n",
    "accs_vian_df.loc[accs_vian_df[\"Descripcio_Lloc_atropellament_vianant\"] == \"En pas sense regular\", \"Descripcio_Lloc_atropellament_vianant\"] = \"Paso No Regulado\"\n",
    "accs_vian_df.loc[accs_vian_df[\"Descripcio_Lloc_atropellament_vianant\"] == \"A la vorera / Andana\", \"Descripcio_Lloc_atropellament_vianant\"] = \"Zona Peatonal\"\n",
    "accs_vian_df.loc[accs_vian_df[\"Descripcio_Lloc_atropellament_vianant\"] == \"Altres\", \"Descripcio_Lloc_atropellament_vianant\"] = \"Otras\"\n",
    "accs_vian_df.loc[accs_vian_df[\"Descripcio_Lloc_atropellament_vianant\"] == \"En pas sense senyalitzar\", \"Descripcio_Lloc_atropellament_vianant\"] = \"Paso Sin Señalizar\"\n",
    "\n",
    "\n",
    "# Renombrar el atributo a 'Ubicacion_peaton'\n",
    "accs_vian_df = accs_vian_df.rename(columns={\"Descripcio_Lloc_atropellament_vianant\": \"Ubicacion_peaton\"})\n",
    "\n",
    "print(accs_vian_df.head())"
   ]
  },
  {
   "cell_type": "markdown",
   "id": "cb9dffd5",
   "metadata": {},
   "source": [
    "### 5. Unión de los dataframes (join)\n",
    "En este paso se unen mediante una operación merge (similar a un join) los dataframes con la información adicional obtenida en el **paso 4** con el dataframe con la información general extraída en el **paso 3** de cada accidente reportado, con la finalidad de obtener el fichero csv master que se usará en el análisis."
   ]
  },
  {
   "cell_type": "code",
   "execution_count": 22,
   "id": "72e64e01",
   "metadata": {},
   "outputs": [
    {
     "name": "stdout",
     "output_type": "stream",
     "text": [
      "  Numero_expedient  Codi_districte  Codi_barri            Dia_Hora    Latitud  \\\n",
      "0  2022S007749                  -1          -1 2022-12-19 11:00:00  41.439261   \n",
      "1  2022S003422                  -1          -1 2022-06-04 14:00:00  41.404080   \n",
      "2  2022S003346                  -1          -1 2022-06-01 21:00:00  41.443596   \n",
      "3  2022S006073                  -1          -1 2022-10-08 21:00:00  41.332974   \n",
      "4  2022S005123                  -1          -1 2022-08-26 16:00:00  41.385209   \n",
      "\n",
      "   Longitud  TipusVeh_Bicicleta  TipusVeh_Otros_veh  TipusVeh_VMP  \\\n",
      "0  2.193098                 0.0                 2.0           0.0   \n",
      "1  2.208515                 0.0                 2.0           0.0   \n",
      "2  2.176568                 0.0                 1.0           1.0   \n",
      "3  2.138671                 0.0                 1.0           0.0   \n",
      "4  2.173975                 0.0                 0.0           1.0   \n",
      "\n",
      "   Pers_Conductor  Pers_Passatger  Pers_Vianant Es_causa_peaton  \\\n",
      "0             1.0             0.0           0.0              No   \n",
      "1             1.0             1.0           0.0              No   \n",
      "2             1.0             0.0           0.0              No   \n",
      "3             NaN             NaN           NaN             NaN   \n",
      "4             1.0             0.0           0.0              No   \n",
      "\n",
      "  Ubicacion_peaton  \n",
      "0      Desconocido  \n",
      "1      Desconocido  \n",
      "2      Desconocido  \n",
      "3              NaN  \n",
      "4      Desconocido  \n"
     ]
    }
   ],
   "source": [
    "accs_bcn_df = pd.merge(accs_df, accs_veh_dummies, how=\"left\", on=\"Numero_expedient\")\n",
    "accs_bcn_df = pd.merge(accs_bcn_df, accs_pers_dummies, how=\"left\", on=\"Numero_expedient\")\n",
    "accs_bcn_df = pd.merge(accs_bcn_df, accs_vian_df, how=\"left\", on=\"Numero_expedient\")\n",
    "\n",
    "print(accs_bcn_df.head())"
   ]
  },
  {
   "cell_type": "markdown",
   "id": "43b605b1",
   "metadata": {},
   "source": [
    "**NOTA:** Aparecen valores NaN ya que si no hay lesionados no aparece el expediente en el fichero de personas. Conviene recodificar los NaN a 0 para los valores numéricos y 'No' o 'Desconocido' según el atributo los categóricos.\n",
    "\n",
    "**NOTA 2:** Al hacer merge la función ha convertido los Integer a float (decimales). Conviene reconvertir estos valores a tipo Integer"
   ]
  },
  {
   "cell_type": "code",
   "execution_count": 26,
   "id": "460b6736",
   "metadata": {},
   "outputs": [
    {
     "name": "stdout",
     "output_type": "stream",
     "text": [
      "  Numero_expedient  Codi_districte  Codi_barri            Dia_Hora    Latitud  \\\n",
      "0  2022S007749                  -1          -1 2022-12-19 11:00:00  41.439261   \n",
      "1  2022S003422                  -1          -1 2022-06-04 14:00:00  41.404080   \n",
      "2  2022S003346                  -1          -1 2022-06-01 21:00:00  41.443596   \n",
      "3  2022S006073                  -1          -1 2022-10-08 21:00:00  41.332974   \n",
      "4  2022S005123                  -1          -1 2022-08-26 16:00:00  41.385209   \n",
      "\n",
      "   Longitud  TipusVeh_Bicicleta  TipusVeh_Otros_veh  TipusVeh_VMP  \\\n",
      "0  2.193098                 0.0                 2.0           0.0   \n",
      "1  2.208515                 0.0                 2.0           0.0   \n",
      "2  2.176568                 0.0                 1.0           1.0   \n",
      "3  2.138671                 0.0                 1.0           0.0   \n",
      "4  2.173975                 0.0                 0.0           1.0   \n",
      "\n",
      "   Pers_Conductor  Pers_Passatger  Pers_Vianant Es_causa_peaton  \\\n",
      "0             1.0             0.0           0.0              No   \n",
      "1             1.0             1.0           0.0              No   \n",
      "2             1.0             0.0           0.0              No   \n",
      "3             0.0             0.0           0.0              No   \n",
      "4             1.0             0.0           0.0              No   \n",
      "\n",
      "  Ubicacion_peaton  \n",
      "0      Desconocido  \n",
      "1      Desconocido  \n",
      "2      Desconocido  \n",
      "3      Desconocido  \n",
      "4      Desconocido  \n"
     ]
    }
   ],
   "source": [
    "# Conversion de valores NaN a 0 'No' o 'Desconocido'\n",
    "int_fields = [\"TipusVeh_Bicicleta\",\n",
    "              \"TipusVeh_Otros_veh\",\n",
    "              \"TipusVeh_VMP\",\n",
    "              \"Pers_Conductor\",\n",
    "              \"Pers_Passatger\",\n",
    "              \"Pers_Vianant\"]\n",
    "\n",
    "accs_bcn_df[int_fields] = accs_bcn_df[int_fields].fillna(0.0)\n",
    "accs_bcn_df[\"Es_causa_peaton\"] = accs_bcn_df[\"Es_causa_peaton\"].fillna(\"No\")\n",
    "accs_bcn_df[\"Ubicacion_peaton\"] = accs_bcn_df[\"Ubicacion_peaton\"].fillna(\"Desconocido\")\n",
    "\n",
    "print(accs_bcn_df.head())"
   ]
  },
  {
   "cell_type": "code",
   "execution_count": 27,
   "id": "9024183e",
   "metadata": {},
   "outputs": [
    {
     "data": {
      "text/plain": [
       "Numero_expedient              object\n",
       "Codi_districte                 int64\n",
       "Codi_barri                     int64\n",
       "Dia_Hora              datetime64[ns]\n",
       "Latitud                      float64\n",
       "Longitud                     float64\n",
       "TipusVeh_Bicicleta             int64\n",
       "TipusVeh_Otros_veh             int64\n",
       "TipusVeh_VMP                   int64\n",
       "Pers_Conductor                 int64\n",
       "Pers_Passatger                 int64\n",
       "Pers_Vianant                   int64\n",
       "Es_causa_peaton               object\n",
       "Ubicacion_peaton              object\n",
       "dtype: object"
      ]
     },
     "metadata": {},
     "output_type": "display_data"
    }
   ],
   "source": [
    "# Conversion de float a integer de los campos numericos con decimales\n",
    "int_fields = [\"TipusVeh_Bicicleta\",\n",
    "              \"TipusVeh_Otros_veh\",\n",
    "              \"TipusVeh_VMP\",\n",
    "              \"Pers_Conductor\",\n",
    "              \"Pers_Passatger\",\n",
    "              \"Pers_Vianant\"]\n",
    "\n",
    "accs_bcn_df[int_fields] = accs_bcn_df[int_fields].astype(int)\n",
    "\n",
    "display(accs_bcn_df.dtypes)"
   ]
  },
  {
   "cell_type": "code",
   "execution_count": 28,
   "id": "5e2fd2b0",
   "metadata": {},
   "outputs": [],
   "source": [
    "# Escritura del fichero CSV master con la informacion que se utilizara en el analisis\n",
    "accs_bcn_df.to_csv('clean_data/accs_whole_info.csv', index=False)"
   ]
  },
  {
   "cell_type": "code",
   "execution_count": null,
   "id": "5c500e9a",
   "metadata": {},
   "outputs": [],
   "source": []
  }
 ],
 "metadata": {
  "kernelspec": {
   "display_name": "Python 3 (ipykernel)",
   "language": "python",
   "name": "python3"
  },
  "language_info": {
   "codemirror_mode": {
    "name": "ipython",
    "version": 3
   },
   "file_extension": ".py",
   "mimetype": "text/x-python",
   "name": "python",
   "nbconvert_exporter": "python",
   "pygments_lexer": "ipython3",
   "version": "3.8.16"
  }
 },
 "nbformat": 4,
 "nbformat_minor": 5
}
